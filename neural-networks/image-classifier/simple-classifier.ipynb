{
 "cells": [
  {
   "cell_type": "markdown",
   "metadata": {},
   "source": [
    "# Simplest Image Classification"
   ]
  },
  {
   "cell_type": "code",
   "execution_count": 1,
   "metadata": {},
   "outputs": [],
   "source": [
    "import cv2 \n",
    "import numpy as np \n",
    "import matplotlib.pyplot as plt \n",
    "%matplotlib inline "
   ]
  },
  {
   "cell_type": "code",
   "execution_count": 2,
   "metadata": {},
   "outputs": [],
   "source": [
    "!python3 create-img.py"
   ]
  },
  {
   "cell_type": "markdown",
   "metadata": {},
   "source": [
    "## 1. Reading to matrices"
   ]
  },
  {
   "cell_type": "code",
   "execution_count": 3,
   "metadata": {},
   "outputs": [],
   "source": [
    "vertical = cv2.imread(\"vertical.jpg\", cv2.IMREAD_GRAYSCALE)\n",
    "horizontal = cv2.imread(\"horizontal.jpg\", cv2.IMREAD_GRAYSCALE)"
   ]
  },
  {
   "cell_type": "markdown",
   "metadata": {},
   "source": [
    "## 2. Arrays"
   ]
  },
  {
   "cell_type": "code",
   "execution_count": 4,
   "metadata": {},
   "outputs": [
    {
     "name": "stdout",
     "output_type": "stream",
     "text": [
      "Vertical:\n",
      " [[  0 255   0]\n",
      " [  0 255   0]\n",
      " [  0 255   0]]\n",
      "Horizontal:\n",
      " [[  0   0   0]\n",
      " [255 255 255]\n",
      " [  0   0   0]]\n"
     ]
    }
   ],
   "source": [
    "print(\"Vertical:\\n\",vertical)\n",
    "print(\"Horizontal:\\n\",horizontal)"
   ]
  },
  {
   "cell_type": "markdown",
   "metadata": {},
   "source": [
    "## 3. Normalisation"
   ]
  },
  {
   "cell_type": "code",
   "execution_count": 5,
   "metadata": {},
   "outputs": [],
   "source": [
    "vertical = vertical/255\n",
    "horizontal = horizontal/255"
   ]
  },
  {
   "cell_type": "code",
   "execution_count": 6,
   "metadata": {},
   "outputs": [
    {
     "name": "stdout",
     "output_type": "stream",
     "text": [
      "After normalization, Vertical:\n",
      " [[0. 1. 0.]\n",
      " [0. 1. 0.]\n",
      " [0. 1. 0.]]\n",
      "After normalization, Horizontal:\n",
      " [[0. 0. 0.]\n",
      " [1. 1. 1.]\n",
      " [0. 0. 0.]]\n"
     ]
    }
   ],
   "source": [
    "print(\"After normalization, Vertical:\\n\",vertical)\n",
    "print(\"After normalization, Horizontal:\\n\",horizontal)"
   ]
  },
  {
   "cell_type": "markdown",
   "metadata": {},
   "source": [
    "## 4. Flattening"
   ]
  },
  {
   "cell_type": "code",
   "execution_count": 7,
   "metadata": {},
   "outputs": [
    {
     "name": "stdout",
     "output_type": "stream",
     "text": [
      "Vertical Falttened [0. 1. 0. 0. 1. 0. 0. 1. 0.]\n",
      "Horizontal Falttened [0. 0. 0. 1. 1. 1. 0. 0. 0.]\n"
     ]
    }
   ],
   "source": [
    "vertical_flat = vertical.flatten()\n",
    "horizontal_flat = horizontal.flatten()\n",
    "print(\"Vertical Falttened\", vertical_flat)\n",
    "print(\"Horizontal Falttened\",horizontal_flat)"
   ]
  },
  {
   "cell_type": "markdown",
   "metadata": {},
   "source": [
    "## 5. Viewing"
   ]
  },
  {
   "cell_type": "code",
   "execution_count": 41,
   "metadata": {},
   "outputs": [
    {
     "data": {
      "image/png": "[encoded data removed]",
      "text/plain": [
       "<Figure size 576x576 with 2 Axes>"
      ]
     },
     "metadata": {
      "needs_background": "light"
     },
     "output_type": "display_data"
    }
   ],
   "source": [
    "plt.figure(figsize=(8., 8.))\n",
    "\n",
    "plt.subplot(221)\n",
    "plt.imshow(vertical)\n",
    "plt.gca().set_title('vertical')\n",
    "\n",
    "plt.subplot(222)\n",
    "plt.imshow(horizontal)\n",
    "plt.gca().set_title('horizontal')\n",
    "\n",
    "plt.show()"
   ]
  },
  {
   "cell_type": "code",
   "execution_count": 10,
   "metadata": {},
   "outputs": [],
   "source": [
    "#Making the flattened image from 1-D to 2-D for ploltting in matploltib \n",
    "vertical_ = np.expand_dims(vertical_flat, axis=1) \n",
    "horizontal_ = np.expand_dims(horizontal_flat, axis=1) "
   ]
  },
  {
   "cell_type": "code",
   "execution_count": 45,
   "metadata": {},
   "outputs": [
    {
     "data": {
      "image/png": "[encoded data removed]",
      "text/plain": [
       "<Figure size 720x720 with 2 Axes>"
      ]
     },
     "metadata": {
      "needs_background": "light"
     },
     "output_type": "display_data"
    }
   ],
   "source": [
    "plt.figure(figsize=(10., 10.))\n",
    "\n",
    "plt.subplot(221)\n",
    "plt.imshow(vertical_)\n",
    "plt.gca().set_title('vertical flattened')\n",
    "\n",
    "plt.subplot(222)\n",
    "plt.imshow(horizontal_)\n",
    "plt.gca().set_title('horizontal flattened')\n",
    "\n",
    "plt.show()"
   ]
  },
  {
   "cell_type": "markdown",
   "metadata": {},
   "source": [
    "## 6. Creating Image Classifier \n",
    "Using above operations like falttening, convolution, normalization, we now create our final image classifier as a function below."
   ]
  },
  {
   "cell_type": "code",
   "execution_count": 13,
   "metadata": {},
   "outputs": [],
   "source": [
    "#Images to test model on\n",
    "test1 = cv2.imread(\"test1.jpg\", cv2.IMREAD_GRAYSCALE)\n",
    "test2 = cv2.imread(\"test2.jpg\", cv2.IMREAD_GRAYSCALE)"
   ]
  },
  {
   "cell_type": "code",
   "execution_count": 14,
   "metadata": {},
   "outputs": [],
   "source": [
    "def classify_img(img):\n",
    "    img=img/255\n",
    "    img_flatten = img.flatten()\n",
    "    filter_ = [1,-1,1,1,-1,1,1,-1,1]\n",
    "    convolution = img_flatten*filter_\n",
    "    print(\"Convolution : \",convolution)\n",
    "    \n",
    "    sum_conv = sum(convolution)\n",
    "    print(\"Sum of Convolution: \",sum_conv)\n",
    "    \n",
    "    if sum_conv == 1:\n",
    "        return \"Horizontal Image\"\n",
    "    else:\n",
    "        return \"Vertical Image\""
   ]
  },
  {
   "cell_type": "code",
   "execution_count": 15,
   "metadata": {},
   "outputs": [
    {
     "name": "stdout",
     "output_type": "stream",
     "text": [
      "Convolution :  [ 0. -0.  1.  0. -0.  1.  0. -0.  1.]\n",
      "Sum of Convolution:  3.0\n"
     ]
    },
    {
     "data": {
      "text/plain": [
       "'Vertical Image'"
      ]
     },
     "execution_count": 15,
     "metadata": {},
     "output_type": "execute_result"
    }
   ],
   "source": [
    "classify_img(test1)"
   ]
  },
  {
   "cell_type": "code",
   "execution_count": 16,
   "metadata": {},
   "outputs": [
    {
     "name": "stdout",
     "output_type": "stream",
     "text": [
      "Convolution :  [ 0. -0.  0.  0. -0.  0.  1. -1.  1.]\n",
      "Sum of Convolution:  1.0\n"
     ]
    },
    {
     "data": {
      "text/plain": [
       "'Horizontal Image'"
      ]
     },
     "execution_count": 16,
     "metadata": {},
     "output_type": "execute_result"
    }
   ],
   "source": [
    "classify_img(test2)"
   ]
  },
  {
   "cell_type": "markdown",
   "metadata": {},
   "source": [
    "## 7. Testing  "
   ]
  },
  {
   "cell_type": "code",
   "execution_count": 40,
   "metadata": {},
   "outputs": [
    {
     "data": {
      "image/png": "[encoded data removed]",
      "text/plain": [
       "<Figure size 576x576 with 2 Axes>"
      ]
     },
     "metadata": {
      "needs_background": "light"
     },
     "output_type": "display_data"
    }
   ],
   "source": [
    "plt.figure(figsize=(8., 8.))\n",
    "\n",
    "plt.subplot(221)\n",
    "plt.imshow(test1)\n",
    "plt.gca().set_title('test1')\n",
    "\n",
    "plt.subplot(222)\n",
    "plt.imshow(test2)\n",
    "plt.gca().set_title('test2')\n",
    "\n",
    "plt.show()"
   ]
  },
  {
   "cell_type": "markdown",
   "metadata": {},
   "source": [
    "# Thankyou"
   ]
  }
 ],
 "metadata": {
  "kernelspec": {
   "display_name": "Python 3",
   "language": "python",
   "name": "python3"
  },
  "language_info": {
   "codemirror_mode": {
    "name": "ipython",
    "version": 3
   },
   "file_extension": ".py",
   "mimetype": "text/x-python",
   "name": "python",
   "nbconvert_exporter": "python",
   "pygments_lexer": "ipython3",
   "version": "3.8.5"
  }
 },
 "nbformat": 4,
 "nbformat_minor": 4
}
